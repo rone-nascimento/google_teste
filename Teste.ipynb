{
  "nbformat": 4,
  "nbformat_minor": 0,
  "metadata": {
    "colab": {
      "provenance": [],
      "mount_file_id": "1yJvEMLMU9Wt4xiYiS1_gE7M4aR4Sifwx",
      "authorship_tag": "ABX9TyMXd1Dc6n7vHEtHZwmTi3sI",
      "include_colab_link": true
    },
    "kernelspec": {
      "name": "python3",
      "display_name": "Python 3"
    },
    "language_info": {
      "name": "python"
    }
  },
  "cells": [
    {
      "cell_type": "markdown",
      "metadata": {
        "id": "view-in-github",
        "colab_type": "text"
      },
      "source": [
        "<a href=\"https://colab.research.google.com/github/rone-nascimento/google_teste/blob/main/Teste.ipynb\" target=\"_parent\"><img src=\"https://colab.research.google.com/assets/colab-badge.svg\" alt=\"Open In Colab\"/></a>"
      ]
    },
    {
      "cell_type": "code",
      "execution_count": 5,
      "metadata": {
        "colab": {
          "base_uri": "https://localhost:8080/"
        },
        "id": "MJ4EHFoPEQCY",
        "outputId": "1d885158-c1cd-4a4d-fd0a-7383072113b5"
      },
      "outputs": [
        {
          "output_type": "stream",
          "name": "stdout",
          "text": [
            "5\n"
          ]
        }
      ],
      "source": [
        "# teste\n",
        "#tetstando o github subindo o google colab\n",
        "a = 2\n",
        "b = 3\n",
        "print(a+ b)"
      ]
    },
    {
      "cell_type": "code",
      "source": [
        "#testet XC.vskvlsvs"
      ],
      "metadata": {
        "id": "nEi3SD8LiL77"
      },
      "execution_count": 6,
      "outputs": []
    }
  ]
}