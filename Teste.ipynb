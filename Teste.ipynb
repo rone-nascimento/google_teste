{
  "nbformat": 4,
  "nbformat_minor": 0,
  "metadata": {
    "colab": {
      "provenance": [],
      "mount_file_id": "1yJvEMLMU9Wt4xiYiS1_gE7M4aR4Sifwx",
      "authorship_tag": "ABX9TyOu0NeyCrCINF7ILNRIvCVQ",
      "include_colab_link": true
    },
    "kernelspec": {
      "name": "python3",
      "display_name": "Python 3"
    },
    "language_info": {
      "name": "python"
    }
  },
  "cells": [
    {
      "cell_type": "markdown",
      "metadata": {
        "id": "view-in-github",
        "colab_type": "text"
      },
      "source": [
        "<a href=\"https://colab.research.google.com/github/rone-nascimento/google_teste/blob/main/Teste.ipynb\" target=\"_parent\"><img src=\"https://colab.research.google.com/assets/colab-badge.svg\" alt=\"Open In Colab\"/></a>"
      ]
    },
    {
      "cell_type": "code",
      "execution_count": 4,
      "metadata": {
        "id": "MJ4EHFoPEQCY"
      },
      "outputs": [],
      "source": [
        "# teste\n",
        "#tetstando o github subindo o google colab"
      ]
    }
  ]
}